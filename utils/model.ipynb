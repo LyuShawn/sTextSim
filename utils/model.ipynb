{
 "cells": [
  {
   "cell_type": "code",
   "execution_count": 5,
   "metadata": {},
   "outputs": [
    {
     "data": {
      "application/vnd.jupyter.widget-view+json": {
       "model_id": "e8dc16aabe2b4f4e9571b2161c235d66",
       "version_major": 2,
       "version_minor": 0
      },
      "text/plain": [
       "config.json:   0%|          | 0.00/697 [00:00<?, ?B/s]"
      ]
     },
     "metadata": {},
     "output_type": "display_data"
    },
    {
     "data": {
      "application/vnd.jupyter.widget-view+json": {
       "model_id": "1c22f26ad46743f391d8a9703c764b0b",
       "version_major": 2,
       "version_minor": 0
      },
      "text/plain": [
       "pytorch_model.bin:   0%|          | 0.00/438M [00:00<?, ?B/s]"
      ]
     },
     "metadata": {},
     "output_type": "display_data"
    },
    {
     "data": {
      "application/vnd.jupyter.widget-view+json": {
       "model_id": "ef8efb920548409aac9b779b95f85f2d",
       "version_major": 2,
       "version_minor": 0
      },
      "text/plain": [
       "tokenizer_config.json:   0%|          | 0.00/252 [00:00<?, ?B/s]"
      ]
     },
     "metadata": {},
     "output_type": "display_data"
    },
    {
     "data": {
      "application/vnd.jupyter.widget-view+json": {
       "model_id": "ffbe0f7988bc47e0ad7901f4e0c3f854",
       "version_major": 2,
       "version_minor": 0
      },
      "text/plain": [
       "vocab.txt:   0%|          | 0.00/232k [00:00<?, ?B/s]"
      ]
     },
     "metadata": {},
     "output_type": "display_data"
    },
    {
     "data": {
      "application/vnd.jupyter.widget-view+json": {
       "model_id": "0b4a3dc750814dac8855945b09990671",
       "version_major": 2,
       "version_minor": 0
      },
      "text/plain": [
       "special_tokens_map.json:   0%|          | 0.00/112 [00:00<?, ?B/s]"
      ]
     },
     "metadata": {},
     "output_type": "display_data"
    },
    {
     "data": {
      "text/plain": [
       "('../model/unsup-simcse-bert-base-uncased-baseline/tokenizer_config.json',\n",
       " '../model/unsup-simcse-bert-base-uncased-baseline/special_tokens_map.json',\n",
       " '../model/unsup-simcse-bert-base-uncased-baseline/vocab.txt',\n",
       " '../model/unsup-simcse-bert-base-uncased-baseline/added_tokens.json',\n",
       " '../model/unsup-simcse-bert-base-uncased-baseline/tokenizer.json')"
      ]
     },
     "execution_count": 5,
     "metadata": {},
     "output_type": "execute_result"
    }
   ],
   "source": [
    "# 下载模型到本地\n",
    "from transformers import AutoModel, AutoTokenizer\n",
    "\n",
    "# 定义模型名称（例如 bert-base-uncased）\n",
    "model_name = \"princeton-nlp/unsup-simcse-bert-base-uncased\"\n",
    "\n",
    "# 指定保存模型的本地路径\n",
    "save_directory = \"../model/unsup-simcse-bert-base-uncased-baseline/\"\n",
    "\n",
    "# 下载模型和分词器\n",
    "model = AutoModel.from_pretrained(model_name)\n",
    "tokenizer = AutoTokenizer.from_pretrained(model_name)\n",
    "\n",
    "# 保存模型和分词器到指定目录\n",
    "model.save_pretrained(save_directory)\n",
    "tokenizer.save_pretrained(save_directory)"
   ]
  },
  {
   "cell_type": "code",
   "execution_count": null,
   "metadata": {},
   "outputs": [],
   "source": [
    "# pip install transformers\n",
    "# transformers-cli download bert-base-uncased"
   ]
  }
 ],
 "metadata": {
  "kernelspec": {
   "display_name": "simcse38",
   "language": "python",
   "name": "python3"
  },
  "language_info": {
   "codemirror_mode": {
    "name": "ipython",
    "version": 3
   },
   "file_extension": ".py",
   "mimetype": "text/x-python",
   "name": "python",
   "nbconvert_exporter": "python",
   "pygments_lexer": "ipython3",
   "version": "3.8.20"
  }
 },
 "nbformat": 4,
 "nbformat_minor": 2
}
