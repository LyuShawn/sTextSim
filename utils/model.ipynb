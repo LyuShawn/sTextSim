{
 "cells": [
  {
   "cell_type": "code",
   "execution_count": null,
   "metadata": {},
   "outputs": [],
   "source": [
    "# 下载模型到本地\n",
    "from transformers import AutoModel, AutoTokenizer\n",
    "\n",
    "# 定义模型名称（例如 bert-base-uncased）\n",
    "model_name = \"princeton-nlp/unsup-simcse-bert-base-uncased\"\n",
    "\n",
    "# 指定保存模型的本地路径\n",
    "save_directory = \"../model/unsup-simcse-bert-base-uncased-baseline/\"\n",
    "\n",
    "# 下载模型和分词器\n",
    "model = AutoModel.from_pretrained(model_name)\n",
    "tokenizer = AutoTokenizer.from_pretrained(model_name)\n",
    "\n",
    "# 保存模型和分词器到指定目录\n",
    "model.save_pretrained(save_directory)\n",
    "tokenizer.save_pretrained(save_directory)"
   ]
  },
  {
   "cell_type": "code",
   "execution_count": null,
   "metadata": {},
   "outputs": [],
   "source": [
    "# pip install transformers\n",
    "# transformers-cli download bert-base-uncased"
   ]
  },
  {
   "cell_type": "code",
   "execution_count": null,
   "metadata": {},
   "outputs": [],
   "source": [
    "# 加载权重文件\n",
    "\n",
    "from safetensors.torch import load_file\n",
    "\n",
    "# 指定模型路径\n",
    "path = '../model/unsup-simcse-bert-base-uncased-baseline/model.safetensors'\n",
    "\n",
    "# 加载 safetensors 文件\n",
    "state_dict = load_file(path)\n",
    "\n",
    "# 打印所有的 key\n",
    "for key in state_dict.keys():\n",
    "    print(key)\n"
   ]
  }
 ],
 "metadata": {
  "kernelspec": {
   "display_name": "simcse38",
   "language": "python",
   "name": "python3"
  },
  "language_info": {
   "codemirror_mode": {
    "name": "ipython",
    "version": 3
   },
   "file_extension": ".py",
   "mimetype": "text/x-python",
   "name": "python",
   "nbconvert_exporter": "python",
   "pygments_lexer": "ipython3",
   "version": "3.8.20"
  }
 },
 "nbformat": 4,
 "nbformat_minor": 2
}
