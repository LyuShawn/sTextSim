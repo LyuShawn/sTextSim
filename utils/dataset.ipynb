{
 "cells": [
  {
   "cell_type": "code",
   "execution_count": 7,
   "metadata": {},
   "outputs": [],
   "source": [
    "# transform the raw simcse txt to json format\n",
    "import json\n",
    "\n",
    "input_file = '../dataset/wiki1m_for_simcse.txt'\n",
    "output_file = '../dataset/WikiSTS.json'\n",
    "\n",
    "with open(input_file, 'r') as f:\n",
    "    lines = f.readlines()\n",
    "data = []\n",
    "for i in range(len(lines)):\n",
    "    data.append({'text': lines[i].strip()})\n",
    "with open(output_file, 'w') as f:\n",
    "    json.dump({'WikiSTS':{'train':data}}, f)"
   ]
  },
  {
   "cell_type": "code",
   "execution_count": 13,
   "metadata": {},
   "outputs": [],
   "source": [
    "# 转换csv格式\n",
    "input_file = '../dataset/stsbenchmark/sts-test.csv'\n",
    "output_file = '../dataset/stsbenchmark/sts-test.json'\n",
    "data = []\n",
    "\n",
    "with open(input_file, 'r') as f:\n",
    "    lines = f.readlines()\n",
    "for i in range(1, len(lines)):\n",
    "    line = lines[i].strip().split('\\t')\n",
    "    data.append({'text1': line[5], 'text2': line[6],'label': float(line[4])})\n",
    "with open(output_file, 'w') as f:\n",
    "    json.dump(data, f, indent=4)"
   ]
  }
 ],
 "metadata": {
  "kernelspec": {
   "display_name": "simcse38",
   "language": "python",
   "name": "python3"
  },
  "language_info": {
   "codemirror_mode": {
    "name": "ipython",
    "version": 3
   },
   "file_extension": ".py",
   "mimetype": "text/x-python",
   "name": "python",
   "nbconvert_exporter": "python",
   "pygments_lexer": "ipython3",
   "version": "3.8.20"
  }
 },
 "nbformat": 4,
 "nbformat_minor": 2
}
